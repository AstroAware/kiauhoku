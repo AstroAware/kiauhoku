{
 "cells": [
  {
   "cell_type": "markdown",
   "metadata": {},
   "source": [
    "# mcmc.ipynb\n",
    "### A Markov-Chain Monte Carlo (MCMC) example using `kiauhoku` with `emcee`.\n",
    "### For this example, we will estimate the Sun's age using gyrochronology (rotation-based age)."
   ]
  },
  {
   "cell_type": "code",
   "execution_count": null,
   "metadata": {},
   "outputs": [],
   "source": [
    "import numpy as np\n",
    "import pandas as pd\n",
    "\n",
    "import kiauhoku as kh"
   ]
  },
  {
   "cell_type": "markdown",
   "metadata": {},
   "source": [
    "### We must first define the log-probability function. Here I'm using an uninformative (flat) prior with a $\\chi^2$ log-likelihood."
   ]
  },
  {
   "cell_type": "code",
   "execution_count": null,
   "metadata": {},
   "outputs": [],
   "source": [
    "def lnprior(theta):\n",
    "    return 0\n",
    "\n",
    "def lnlike(theta, grid, data, sigma):\n",
    "    mass, met, alpha, eep = theta   # unpack parameters\n",
    "    star = grid.get_star_eep(theta)\n",
    "    if star.isnull().any():\n",
    "        return -np.inf, None\n",
    "\n",
    "    teff = 10**star['Log Teff(K)']\n",
    "    star['Teff(K)'] = teff\n",
    "\n",
    "    z_x_surf = np.log10(star['Z/X(surf)']/0.02289)\n",
    "    star['[Z/X]'] = z_x_surf\n",
    "    star['[alpha/Z]'] = alpha\n",
    "\n",
    "    prot = star['Prot(days)']\n",
    "\n",
    "    theta_ = np.array([teff, z_x_surf, alpha, prot])\n",
    "    my_log_like = lnChiSq(theta_, data, sigma)\n",
    "    return my_log_like, star\n",
    "\n",
    "def lnChiSq(theta, data, sigma):\n",
    "    return -0.5 * (((theta-data)/sigma)**2).sum()"
   ]
  },
  {
   "cell_type": "markdown",
   "metadata": {},
   "source": [
    "### `kiauhoku` samples the model grid using independent variables of initial mass, initial metallicity, initial $\\alpha$-element abundance, and EEP index, but those are rarely useful when comparing with data. \n",
    "### So we sample the grid and get useful parameters like temperature and luminosity, then we compute the log-probability using those values."
   ]
  },
  {
   "cell_type": "code",
   "execution_count": null,
   "metadata": {},
   "outputs": [],
   "source": [
    "def lnprob(theta, grid, data, sigma):\n",
    "    lp = lnprior(theta)\n",
    "    if not np.isfinite(lp):\n",
    "        return -np.inf, None\n",
    "\n",
    "    ll, star = lnlike(theta, grid, data, sigma)\n",
    "\n",
    "    if not np.isfinite(ll):\n",
    "        return -np.inf, None\n",
    "\n",
    "    my_log_prob = lp + ll\n",
    "    star[\"lnprob\"] = my_log_prob\n",
    "\n",
    "    return my_log_prob, star"
   ]
  },
  {
   "cell_type": "markdown",
   "metadata": {},
   "source": [
    "### Now we define our data. Using for the Sun:\n",
    "### - Teff = 5776 +/- 100 K\n",
    "### - \\[M/H\\] = 0.0 +/- 0.1\n",
    "### - \\[$\\alpha$/M\\] = 0.0 +/- 0.1\n",
    "### - Period = 24.5 +/- 2.5 days"
   ]
  },
  {
   "cell_type": "code",
   "execution_count": null,
   "metadata": {},
   "outputs": [],
   "source": [
    "sun_data = np.array([5776, 0, 0, 24.5])\n",
    "sun_sigma = np.array([100, 0.1, 0.1, 2.5])\n",
    "args = (sun_data, sun_sigma)\n",
    "\n",
    "# tuple is same shape as grid index (initial mass, initial metallicity, initial alpha, eep)\n",
    "initial_guess = (1, 0, 0.2, 300)\n",
    "guess_width = (0.2, 0.1, 0.05, 20)\n",
    "\n",
    "n_walkers = 12\n",
    "n_burnin = 100\n",
    "n_iter = 1000\n",
    "\n",
    "grid = kh.load_interpolator('fastlaunch')\n",
    "\n",
    "sampler, chains = grid.mcmc_star(\n",
    "    lnprob, args,\n",
    "    initial_guess=initial_guess, \n",
    "    guess_width=guess_width,\n",
    "    n_walkers=n_walkers, \n",
    "    n_burnin=n_burnin, \n",
    "    n_iter=n_iter,\n",
    ")"
   ]
  },
  {
   "cell_type": "markdown",
   "metadata": {},
   "source": [
    "### Now that we've run MCMC, we can use `corner.py` to see (qualitatively) how well the sampler converged."
   ]
  },
  {
   "cell_type": "code",
   "execution_count": null,
   "metadata": {},
   "outputs": [],
   "source": [
    "from corner import corner"
   ]
  },
  {
   "cell_type": "code",
   "execution_count": null,
   "metadata": {},
   "outputs": [],
   "source": [
    "fig = corner(chains[['initial mass', 'initial [M/H]', 'initial [alpha/M]', 'Prot(days)', \n",
    "    'Age(Gyr)', 'Teff(K)', 'L/Lsun', 'R/Rsun']], \n",
    "    show_titles=True, quantiles=(0.16, 0.84), levels=(1-np.exp(-2), 1-np.exp(-0.5)))"
   ]
  },
  {
   "cell_type": "markdown",
   "metadata": {},
   "source": [
    "### It's in the right place, but looks like there are more evolved models that fit the same data. We can fix this by putting a prior on the EEP-index. If we know the Sun is a main-sequence star, we can limit the range of sampled EEPs to be on the main sequence. Try it out!"
   ]
  }
 ],
 "metadata": {
  "file_extension": ".py",
  "kernelspec": {
   "display_name": "Python 3.7.6 64-bit ('gyro': conda)",
   "language": "python",
   "name": "python37664bitgyroconda7de233c15b184ade952d04cc15ac25c2"
  },
  "language_info": {
   "codemirror_mode": {
    "name": "ipython",
    "version": 3
   },
   "file_extension": ".py",
   "mimetype": "text/x-python",
   "name": "python",
   "nbconvert_exporter": "python",
   "pygments_lexer": "ipython3"
  },
  "mimetype": "text/x-python",
  "name": "python",
  "npconvert_exporter": "python",
  "pygments_lexer": "ipython3",
  "version": 3
 },
 "nbformat": 4,
 "nbformat_minor": 2
}
