{
  "nbformat": 4,
  "nbformat_minor": 0,
  "metadata": {
    "colab": {
      "name": "kiauhoku_model_offsets",
      "provenance": [],
      "collapsed_sections": [],
      "toc_visible": true
    },
    "kernelspec": {
      "name": "python3",
      "display_name": "Python 3"
    }
  },
  "cells": [
    {
      "cell_type": "markdown",
      "metadata": {
        "id": "KV8fyBWeY505"
      },
      "source": [
        "# **Kīauhōkū Model Offsets**\n",
        "[![Open In Colab](https://colab.research.google.com/assets/colab-badge.svg)](https://colab.research.google.com/github/zclaytor/kiauhoku/blob/master/notebooks/model_offsets.ipynb)\n",
        "## This notebook is a tutorial on estimating the systematic uncertainties associated with various stellar model grids, as illustrated in Jamie Tayar et al. submitted 2020.\n",
        "## The notebook is read-only. You can make changes, but they will not save unless you make your own copy. (So don't worry about messing it up for others!)\n",
        "\n",
        "#### **Contact:**\n",
        "- Jamie Tayar (jtayar@hawaii.edu) for information regarding the stellar model grids\n",
        "- Zach Claytor (zclaytor@hawaii.edu) for information regarding kīauhōkū and detailed workings/upkeep of this notebook\n",
        "\n",
        "#### **Resources:**\n",
        "- kīauhōkū: https://github.com/zclaytor/kiauhoku\n",
        "- models: https://zenodo.org/record/4307955"
      ]
    },
    {
      "cell_type": "markdown",
      "metadata": {
        "id": "Go5h4CVBF7rc"
      },
      "source": [
        "## First download and untar the model grids from Zenodo:"
      ]
    },
    {
      "cell_type": "code",
      "metadata": {
        "id": "JjJ-UfXAF-Nq"
      },
      "source": [
        "!wget https://zenodo.org/record/4307955/files/eep_grids.tar.gz\n",
        "!tar -xzvf eep_grids.tar.gz"
      ],
      "execution_count": null,
      "outputs": []
    },
    {
      "cell_type": "markdown",
      "metadata": {
        "id": "Z4LlJQdYGVmy"
      },
      "source": [
        "## Next, install kiauhoku"
      ]
    },
    {
      "cell_type": "code",
      "metadata": {
        "id": "3SKOOdQYGO4N"
      },
      "source": [
        "!pip install kiauhoku"
      ],
      "execution_count": null,
      "outputs": []
    },
    {
      "cell_type": "code",
      "metadata": {
        "id": "GiCmfgbMGsGr"
      },
      "source": [
        "import numpy as np\n",
        "import pandas as pd\n",
        "import kiauhoku as kh"
      ],
      "execution_count": null,
      "outputs": []
    },
    {
      "cell_type": "markdown",
      "metadata": {
        "id": "D1QMgQEyDpdt"
      },
      "source": [
        "## Load grids, unify column names, and cast to interpolators"
      ]
    },
    {
      "cell_type": "code",
      "metadata": {
        "id": "II9r-EhvG2HM"
      },
      "source": [
        "# use grid points between ZAMS and RGBump\n",
        "yrec = kh.stargrid.from_parquet(path='eep_grids/yrec.pqt').query('201 <= eep <= 605')\n",
        "mist = kh.stargrid.from_parquet(path='eep_grids/mist.pqt').query('0.5 <= initial_mass <= 2 and 201 <= eep <= 605')\n",
        "dart = kh.stargrid.from_parquet(path='eep_grids/dartmouth.pqt').query('201 <= eep <= 605')\n",
        "gars = kh.stargrid.from_parquet(path='eep_grids/garstec.pqt').query('201 <= eep <= 605')"
      ],
      "execution_count": null,
      "outputs": []
    },
    {
      "cell_type": "code",
      "metadata": {
        "id": "hzZ2rZi6HIIr"
      },
      "source": [
        "# unify column names\n",
        "yrec['mass'] = yrec['Mass(Msun)']\n",
        "yrec['teff'] = 10**yrec['Log Teff(K)']\n",
        "yrec['lum'] = 10**yrec['L/Lsun']\n",
        "yrec['met'] = np.log10(yrec['Zsurf']/yrec['Xsurf']/0.0253)\n",
        "yrec['age'] = yrec['Age(Gyr)']\n",
        "yrec.set_name('yrec')\n",
        "\n",
        "mist['mass'] = mist['star_mass']\n",
        "mist['teff'] = 10**mist['log_Teff']\n",
        "mist['lum'] = 10**mist['log_L']\n",
        "mist['met'] = mist['log_surf_z'] - np.log10(mist['surface_h1']*0.0173)\n",
        "mist['logg'] = mist['log_g']\n",
        "mist['age'] = mist['star_age'] / 1e9\n",
        "mist.set_name('mist')\n",
        "\n",
        "dart['mass'] = dart.index.to_frame()['initial_mass']\n",
        "dart['teff'] = 10**dart['Log T']\n",
        "dart['lum'] = 10**dart['Log L']\n",
        "dart['met'] = np.log10(dart['(Z/X)_surf']/0.0229)\n",
        "dart['logg'] = dart['Log g']\n",
        "dart['age'] = dart['Age (yrs)'] / 1e9\n",
        "dart.set_name('dart')\n",
        "\n",
        "gars['mass'] = gars['M/Msun']\n",
        "gars['teff'] = gars['Teff']\n",
        "gars['lum'] = 10**gars['Log L/Lsun']\n",
        "gars['met'] = np.log10(gars['Zsurf']/gars['Xsurf']/0.0245)\n",
        "gars['age'] = gars['Age(Myr)'] / 1e3\n",
        "gars.set_name('gars')\n",
        "\n",
        "yrec_interp = yrec.to_interpolator()\n",
        "mist_interp = mist.to_interpolator()\n",
        "dart_interp = dart.to_interpolator()\n",
        "gars_interp = gars.to_interpolator()"
      ],
      "execution_count": null,
      "outputs": []
    },
    {
      "cell_type": "markdown",
      "metadata": {
        "id": "gDNR2xtHD0-S"
      },
      "source": [
        "## Define fitting function\n",
        "##### Iterate through list of grids to fit star"
      ]
    },
    {
      "cell_type": "code",
      "metadata": {
        "id": "LfO-zALRHKIJ"
      },
      "source": [
        "def fit_all_grids(star, *args, **kwargs):\n",
        "    gridnames = []\n",
        "    models = []\n",
        "    for gname, interp in zip(\n",
        "        ['yrec', 'mist', 'dartmouth', 'garstec'],\n",
        "        [yrec_interp, mist_interp, dart_interp, gars_interp]):\n",
        "        model, fit = interp.gridsearch_fit(star, *args, **kwargs)\n",
        "        if fit.success:\n",
        "            gridnames.append(gname)\n",
        "            models.append(\n",
        "                model[['initial_mass', 'initial_met', 'eep', 'mass', 'teff', 'lum', 'met', 'logg', 'age']]\n",
        "            )\n",
        "    models = pd.concat(models, axis=1)\n",
        "    models.columns = gridnames\n",
        "\n",
        "    return models\n",
        "\n",
        "def compute_statistics(models, exclude=None):\n",
        "    stats = models.copy()\n",
        "    if exclude is not None:\n",
        "        stats = stats.drop(columns=exclude)\n",
        "\n",
        "    mean = stats.mean(axis=1)\n",
        "    stdev = stats.std(axis=1, ddof=1)\n",
        "    max_offset = stats.max(axis=1) - stats.min(axis=1)\n",
        "\n",
        "    stats['mean'] = mean\n",
        "    stats['stdev'] = stdev\n",
        "    stats['max offset'] = max_offset\n",
        "\n",
        "    return stats"
      ],
      "execution_count": null,
      "outputs": []
    },
    {
      "cell_type": "markdown",
      "metadata": {
        "id": "SS-e7SoSD-8o"
      },
      "source": [
        "## Define stellar examples and run!"
      ]
    },
    {
      "cell_type": "markdown",
      "metadata": {
        "id": "871aISpXVnGf"
      },
      "source": [
        "### $\\pi$ Men"
      ]
    },
    {
      "cell_type": "code",
      "metadata": {
        "id": "jeacdU5jVXyR"
      },
      "source": [
        "piMen  = {'teff':6037, 'lum':1.444, 'met':0.08}\n",
        "models = fit_all_grids(piMen, scale=(1000, 1, 0.1), tol=1e-6)\n",
        "models"
      ],
      "execution_count": null,
      "outputs": []
    },
    {
      "cell_type": "code",
      "metadata": {
        "id": "nW20rpGHS5Rj"
      },
      "source": [
        "stats = compute_statistics(models, exclude=None)\n",
        "stats"
      ],
      "execution_count": null,
      "outputs": []
    },
    {
      "cell_type": "markdown",
      "metadata": {
        "id": "SGP_WVI1VspC"
      },
      "source": [
        "### TOI 197"
      ]
    },
    {
      "cell_type": "code",
      "metadata": {
        "id": "gDU0Zu4QVvVl"
      },
      "source": [
        "toi197 = {'teff':5080, 'lum':5.15, 'met':-0.08}\n",
        "models = fit_all_grids(toi197, scale=(1000, 1, 0.1), tol=1e-6)\n",
        "models"
      ],
      "execution_count": null,
      "outputs": []
    },
    {
      "cell_type": "code",
      "metadata": {
        "id": "KauZVdGVV4Sv"
      },
      "source": [
        "stats = compute_statistics(models, exclude=None)\n",
        "stats"
      ],
      "execution_count": null,
      "outputs": []
    },
    {
      "cell_type": "markdown",
      "metadata": {
        "id": "SL9JhdTFX_7G"
      },
      "source": [
        "### Sun, using Teff and Luminosity"
      ]
    },
    {
      "cell_type": "code",
      "metadata": {
        "id": "IO1UrX-XYGzB"
      },
      "source": [
        "sun1 = {'teff':5772, 'lum':1, 'met':0}\n",
        "models = fit_all_grids(sun1, scale=(1000, 1, 0.1), tol=1e-6)\n",
        "models"
      ],
      "execution_count": null,
      "outputs": []
    },
    {
      "cell_type": "code",
      "metadata": {
        "id": "MTi6slkTYQxn"
      },
      "source": [
        "stats = compute_statistics(models, exclude=None)\n",
        "stats"
      ],
      "execution_count": null,
      "outputs": []
    },
    {
      "cell_type": "markdown",
      "metadata": {
        "id": "gj25RGeOaz2g"
      },
      "source": [
        "### Sun, using Teff and logg"
      ]
    },
    {
      "cell_type": "code",
      "metadata": {
        "id": "cLM_QbFVa3Uy"
      },
      "source": [
        "sun2 = {'teff':5772, 'logg':4.44, 'met':0}\n",
        "models = fit_all_grids(sun2, scale=(1000, 1, 0.1), tol=1e-6)\n",
        "models"
      ],
      "execution_count": null,
      "outputs": []
    },
    {
      "cell_type": "code",
      "metadata": {
        "id": "A_9jFIx7botX"
      },
      "source": [
        "stats = compute_statistics(models, exclude=None)\n",
        "stats"
      ],
      "execution_count": null,
      "outputs": []
    },
    {
      "cell_type": "markdown",
      "metadata": {
        "id": "bZn-5SjKYTGw"
      },
      "source": [
        "### Sun, using Mass and Age"
      ]
    },
    {
      "cell_type": "code",
      "metadata": {
        "id": "n48CfFpiYWAN"
      },
      "source": [
        "sun3 = {'age': 4.57, 'mass':1, 'met':0}\n",
        "models = fit_all_grids(sun3, scale=(1, 0.1, 0.1), tol=1e-6)\n",
        "models"
      ],
      "execution_count": null,
      "outputs": []
    },
    {
      "cell_type": "code",
      "metadata": {
        "id": "oII99__RYdkX"
      },
      "source": [
        "stats = compute_statistics(models, exclude=None)\n",
        "stats"
      ],
      "execution_count": null,
      "outputs": []
    }
  ]
}